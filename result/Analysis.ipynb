{
 "cells": [
  {
   "cell_type": "code",
   "execution_count": 1,
   "metadata": {
    "collapsed": true
   },
   "outputs": [
    {
     "name": "stderr",
     "output_type": "stream",
     "text": [
      "/home/markole/miniconda3/lib/python3.6/importlib/_bootstrap.py:219: RuntimeWarning: numpy.dtype size changed, may indicate binary incompatibility. Expected 96, got 88\n",
      "  return f(*args, **kwds)\n",
      "/home/markole/miniconda3/lib/python3.6/importlib/_bootstrap.py:219: RuntimeWarning: numpy.dtype size changed, may indicate binary incompatibility. Expected 96, got 88\n",
      "  return f(*args, **kwds)\n",
      "/home/markole/miniconda3/lib/python3.6/importlib/_bootstrap.py:219: RuntimeWarning: numpy.dtype size changed, may indicate binary incompatibility. Expected 96, got 88\n",
      "  return f(*args, **kwds)\n",
      "/home/markole/miniconda3/lib/python3.6/importlib/_bootstrap.py:219: RuntimeWarning: numpy.dtype size changed, may indicate binary incompatibility. Expected 96, got 88\n",
      "  return f(*args, **kwds)\n",
      "/home/markole/miniconda3/lib/python3.6/importlib/_bootstrap.py:219: RuntimeWarning: numpy.dtype size changed, may indicate binary incompatibility. Expected 96, got 88\n",
      "  return f(*args, **kwds)\n"
     ]
    }
   ],
   "source": [
    "import pandas as pd\n",
    "import numpy as np\n",
    "import matplotlib.pyplot as plt\n",
    "from sklearn import linear_model\n",
    "from sklearn.model_selection import train_test_split\n",
    "from sklearn.preprocessing import StandardScaler\n",
    "from sklearn.metrics import mean_squared_error, r2_score"
   ]
  },
  {
   "cell_type": "code",
   "execution_count": 23,
   "metadata": {},
   "outputs": [],
   "source": [
    "df = pd.read_csv('function_time.csv')\n",
    "df = df.drop(df[df['successful verification'] == False].index)\n",
    "df = df.drop(['successful verification', 'cbmc time'], axis=1)"
   ]
  },
  {
   "cell_type": "code",
   "execution_count": 24,
   "metadata": {},
   "outputs": [],
   "source": [
    "for keyword in ['multiplication operator', 'divide operator', \\\n",
    " 'less operator', 'lessEq operator', \\\n",
    " 'greater operator', 'greaterEq operator', \\\n",
    " 'eq operator', 'neq operator', 'and operator', \\\n",
    " 'or operator', 'decrement operator', \\\n",
    " 'increment operator', 'if statement', \\\n",
    " '? statement', 'switch statement', \\\n",
    " 'continue statement', 'break statement', \\\n",
    " 'recursion block', 'garbage block']:\n",
    "    df[keyword] = np.int32((df['func-1 ' + keyword] == 0) & (df['func-2 ' + keyword] == 1))\n",
    "    \n",
    "df['for-while'] = np.int32((df['func-1 for loop'] == 1) & (df['func-2 for loop'] == 0) \\\n",
    "                & (df['func-2 while loop'] == 1))\n",
    "df['for-goto'] = np.int32((df['func-1 for loop'] == 1) & (df['func-2 for loop'] == 0) \\\n",
    "                & (df['func-2 goto loop'] == 1))\n",
    "df['while-goto'] = np.int32((df['func-1 while loop'] == 1) & (df['func-2 while loop'] == 0) \\\n",
    "                & (df['func-2 goto loop'] == 1))\n",
    "\n",
    "df = df.drop(df.loc[:, 'func-1 for loop':'func-2 garbage block'], axis=1)"
   ]
  },
  {
   "cell_type": "code",
   "execution_count": 25,
   "metadata": {},
   "outputs": [],
   "source": [
    "# dummies = pd.get_dummies(df['file name'])\n",
    "# df = pd.concat([df, dummies], axis=1)\n",
    "df = df.drop(['file name'], axis=1)\n",
    "\n",
    "df['execution time'] *= 1000"
   ]
  },
  {
   "cell_type": "code",
   "execution_count": 39,
   "metadata": {},
   "outputs": [
    {
     "data": {
      "image/png": "[encoded data removed]",
      "text/plain": [
       "<Figure size 432x288 with 1 Axes>"
      ]
     },
     "metadata": {},
     "output_type": "display_data"
    }
   ],
   "source": [
    "plt.boxplot(df['execution time'])\n",
    "plt.savefig('boxplot.svg', format='svg', dps=1000)\n",
    "plt.show()"
   ]
  },
  {
   "cell_type": "code",
   "execution_count": 40,
   "metadata": {},
   "outputs": [],
   "source": [
    "scaler = StandardScaler()\n",
    "scaler.fit(pd.DataFrame(df['execution time']))\n",
    "x = df.drop('execution time', axis=1)\n",
    "y = pd.DataFrame(df['execution time'])\n",
    "x_train, x_test, y_train, y_test = train_test_split(x, y, test_size=0.3, random_state=42) \n",
    "y_train = scaler.fit_transform(y_train)\n",
    "y_test = scaler.transform(y_test)"
   ]
  },
  {
   "cell_type": "code",
   "execution_count": 41,
   "metadata": {},
   "outputs": [
    {
     "name": "stdout",
     "output_type": "stream",
     "text": [
      "--depth                     -0.282644\n",
      "--unwind                     0.096294\n",
      "--partial-loops              0.029497\n",
      "--no-unwinding-assertions    0.033565\n",
      "multiplication operator      0.000000\n",
      "divide operator              0.000000\n",
      "less operator               -0.016916\n",
      "lessEq operator              0.131142\n",
      "greater operator            -0.108558\n",
      "greaterEq operator          -0.092847\n",
      "eq operator                 -0.099545\n",
      "neq operator                -0.097952\n",
      "and operator                -0.018259\n",
      "or operator                 -0.039410\n",
      "decrement operator           0.000000\n",
      "increment operator          -0.125474\n",
      "if statement                 0.077742\n",
      "? statement                 -0.048127\n",
      "switch statement            -0.054649\n",
      "continue statement           0.000000\n",
      "break statement             -0.054649\n",
      "recursion block             -0.014385\n",
      "garbage block               -0.046018\n",
      "for-while                   -0.012523\n",
      "for-goto                     0.000000\n",
      "while-goto                   0.000000\n",
      "dtype: float64\n"
     ]
    }
   ],
   "source": [
    "model = linear_model.RidgeCV(alphas=[1e-2, 5e-2, 1e-1, 5e-1, 1, 5, 10, 50, 100])\n",
    "model.fit(x_train, y_train)\n",
    "coefficients = pd.Series(data=model.coef_[0], index=df.drop('execution time', axis=1).columns)\n",
    "print(coefficients)"
   ]
  },
  {
   "cell_type": "code",
   "execution_count": 42,
   "metadata": {},
   "outputs": [
    {
     "data": {
      "text/plain": [
       "(0.0417026465217889, 0.017064071902516464)"
      ]
     },
     "execution_count": 42,
     "metadata": {},
     "output_type": "execute_result"
    }
   ],
   "source": [
    "y_predict = model.predict(x_train)\n",
    "train_error = r2_score(y_train, y_predict)\n",
    "y_predict = model.predict(x_test)\n",
    "test_error = r2_score(y_test, y_predict)\n",
    "\n",
    "(train_error, test_error)"
   ]
  },
  {
   "cell_type": "code",
   "execution_count": 43,
   "metadata": {},
   "outputs": [
    {
     "data": {
      "text/plain": [
       "(array([ 1.8728998]), array([ 0.44998063]))"
      ]
     },
     "execution_count": 43,
     "metadata": {},
     "output_type": "execute_result"
    }
   ],
   "source": [
    "scaler.mean_, scaler.scale_"
   ]
  }
 ],
 "metadata": {
  "kernelspec": {
   "display_name": "Python 3",
   "language": "python",
   "name": "python3"
  },
  "language_info": {
   "codemirror_mode": {
    "name": "ipython",
    "version": 3
   },
   "file_extension": ".py",
   "mimetype": "text/x-python",
   "name": "python",
   "nbconvert_exporter": "python",
   "pygments_lexer": "ipython3",
   "version": "3.6.5"
  }
 },
 "nbformat": 4,
 "nbformat_minor": 2
}
